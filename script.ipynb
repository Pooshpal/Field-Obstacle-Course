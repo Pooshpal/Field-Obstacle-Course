{
 "cells": [
  {
   "cell_type": "code",
   "execution_count": 230,
   "metadata": {},
   "outputs": [],
   "source": [
    "import cv2\n",
    "import numpy as np\n",
    "\n",
    "def get_obstacles(img):\n",
    "\n",
    "    field               = {\"obstacles\":[],\"start\":None,\"end\":None}\n",
    "    gray                = cv2.cvtColor(img, cv2.COLOR_BGR2GRAY)\n",
    "    ret,thresh          = cv2.threshold(gray,50,255,0)\n",
    "    contours,hierarchy  = cv2.findContours(thresh, 1, 2)\n",
    "\n",
    "    for cnt in contours:\n",
    "        x1,y1 = cnt[0][0]\n",
    "        approx = cv2.approxPolyDP(cnt, 0.01*cv2.arcLength(cnt, True), True)\n",
    "        if len(approx) == 4:\n",
    "            x, y, w, h = cv2.boundingRect(cnt)\n",
    "            ratio = float(w)/h\n",
    "            if ratio >= 0.8 and ratio <= 1.2:\n",
    "                img = cv2.drawContours(img, [cnt], -1, (0,255,255), 3)\n",
    "                if field[\"start\"]==None:field[\"start\"]=(int(x+w/2),int(y+h/2),y)\n",
    "                else:\n",
    "                    if y<field[\"start\"][2]:\n",
    "                        field[\"end\"]=field[\"start\"]\n",
    "                        field[\"start\"]=(int(x+w/2),int(y+h/2),y)\n",
    "                    else:\n",
    "                        field[\"end\"]=(int(x+w/2),int(y+h/2),y)\n",
    "            else:\n",
    "                cv2.putText(img, 'Obstacle', (x1, y1), cv2.FONT_HERSHEY_SIMPLEX, 0.6, (0, 255, 0), 2)\n",
    "                img = cv2.drawContours(img, [cnt], -1, (0,255,0), 3)\n",
    "                field[\"obstacles\"].append((x,y,w,h))\n",
    "    cv2.imwrite(\"temp_obstacle.png\",img)\n",
    "    return field,img\n",
    "\n"
   ]
  },
  {
   "cell_type": "code",
   "execution_count": 231,
   "metadata": {},
   "outputs": [],
   "source": [
    "def find_way(obstacle,curr_x,curr_y,expected_x,expected_y,img):\n",
    "    # Return me to same x coordinate but after crossing obstacle in y coordinate.\n",
    "    dist_left = curr_x - obstacle[0]\n",
    "    dist_right = obstacle[0]+obstacle[2]-curr_x\n",
    "    tot_dist_left = 2*dist_left + expected_x-curr_x\n",
    "    tot_dist_right = 2*dist_right + curr_x - expected_x\n",
    "    #print(\"dist_left,rigth\",dist_left,dist_right)\n",
    "    if tot_dist_left<tot_dist_right:\n",
    "        cv2.line(img,(curr_x,curr_y),(curr_x-dist_left-5,curr_y),(255,0,0),2)\n",
    "        cv2.line(img,(curr_x-dist_left-5,curr_y),(curr_x-dist_left-5,curr_y+obstacle[3]+10),(255,0,0),2)\n",
    "        cv2.line(img,(curr_x-dist_left-5,curr_y+obstacle[3]+10),(expected_x,expected_y),(255,0,0),2)\n",
    "    else:\n",
    "        cv2.line(img,(curr_x,curr_y),(curr_x+dist_right+5,curr_y),(255,0,0),2)\n",
    "        cv2.line(img,(curr_x+dist_right+5,curr_y),(curr_x+dist_right+5,curr_y+obstacle[3]+10),(255,0,0),2)\n",
    "        cv2.line(img,(curr_x+dist_right+5,curr_y+obstacle[3]+10),(expected_x,expected_y),(255,0,0),2)\n",
    "    return img\n"
   ]
  },
  {
   "cell_type": "code",
   "execution_count": 232,
   "metadata": {},
   "outputs": [],
   "source": [
    "def get_path(img,field):\n",
    " \n",
    "\n",
    "    heuristic_slope = (field[\"end\"][0]-field[\"start\"][0])/(field[\"end\"][1]-field[\"start\"][1])\n",
    "    intercept = field[\"start\"][0]\n",
    "    #print(heuristic_slope)\n",
    "\n",
    "    curr_x = int(field[\"start\"][0])\n",
    "    curr_y = int(field[\"start\"][1])\n",
    "\n",
    "    flag = True\n",
    "    while(flag):\n",
    "        next_point = (int(10*heuristic_slope + curr_x),curr_y+10)\n",
    "\n",
    "        for (x,y,w,h) in field[\"obstacles\"]:\n",
    "            if next_point[0]>x and next_point[0]<x+w and next_point[1]>y and next_point[1]<y+h:\n",
    "                expected_y = curr_y+h+8\n",
    "                expected_x = int((h+8)*heuristic_slope + curr_x)\n",
    "                img = find_way((x,y,w,h),curr_x,curr_y,expected_x,expected_y,img)\n",
    "                curr_x = expected_x\n",
    "                curr_y = expected_y\n",
    "                heuristic_slope = (field[\"end\"][0]-curr_x)/(field[\"end\"][1]-curr_y)\n",
    "                next_point = (int(10*heuristic_slope + curr_x),curr_y+10)\n",
    "                #display(curr_x,curr_y)\n",
    "                #print(heuristic_slope)\n",
    "        #if (curr_x-field[\"end\"][0]<=5 or field[\"end\"][0]-curr_x<=5) and (curr_y-field[\"end\"][1]<=5 or field[\"end\"][1]-curr_y<=5):flag=False\n",
    "        if curr_y>field[\"end\"][1]:flag=False\n",
    "        if flag:\n",
    "            #print(\"(\",curr_x,\",\",curr_y,\") - (\",next_point[0],\",\",next_point[1],\")\")\n",
    "            cv2.line(img,(curr_x,curr_y),(next_point[0],next_point[1]),(255,0,0),2)\n",
    "        curr_x = int(next_point[0])\n",
    "        curr_y = int(next_point[1])\n",
    "\n",
    "    cv2.imwrite(\"temp_path.png\",img)\n",
    "    return img"
   ]
  },
  {
   "cell_type": "code",
   "execution_count": 238,
   "metadata": {},
   "outputs": [],
   "source": [
    "\n",
    "img                     =       cv2.imread('./temp6.png')\n",
    "field,obstacle_img      =       get_obstacles(img)\n",
    "#print(field)\n",
    "path_img                =       get_path(obstacle_img,field)\n"
   ]
  }
 ],
 "metadata": {
  "kernelspec": {
   "display_name": "Python 3",
   "language": "python",
   "name": "python3"
  },
  "language_info": {
   "codemirror_mode": {
    "name": "ipython",
    "version": 3
   },
   "file_extension": ".py",
   "mimetype": "text/x-python",
   "name": "python",
   "nbconvert_exporter": "python",
   "pygments_lexer": "ipython3",
   "version": "3.9.13"
  },
  "orig_nbformat": 4,
  "vscode": {
   "interpreter": {
    "hash": "a1c9dad590cf395a9fe4ba544cc84e74f408454e0430369ec0ae9f5c38ae7801"
   }
  }
 },
 "nbformat": 4,
 "nbformat_minor": 2
}
